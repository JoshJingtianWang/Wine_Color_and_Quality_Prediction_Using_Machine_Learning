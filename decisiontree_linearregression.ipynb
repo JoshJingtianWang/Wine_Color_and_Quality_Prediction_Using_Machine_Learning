{
  "nbformat": 4,
  "nbformat_minor": 0,
  "metadata": {
    "colab": {
      "name": "Module 8.ipynb",
      "provenance": [],
      "authorship_tag": "ABX9TyPYTPvbd3031i8ZYYnT1usQ",
      "include_colab_link": true
    },
    "kernelspec": {
      "name": "python3",
      "display_name": "Python 3"
    },
    "language_info": {
      "name": "python"
    }
  },
  "cells": [
    {
      "cell_type": "markdown",
      "metadata": {
        "id": "view-in-github",
        "colab_type": "text"
      },
      "source": [
        "<a href=\"https://colab.research.google.com/github/JoshJingtianWang/Wine_Color_and_Quality_Prediction_Using_Machine_Learning/blob/main/decisiontree_linearregression.ipynb\" target=\"_parent\"><img src=\"https://colab.research.google.com/assets/colab-badge.svg\" alt=\"Open In Colab\"/></a>"
      ]
    },
    {
      "cell_type": "code",
      "metadata": {
        "colab": {
          "base_uri": "https://localhost:8080/"
        },
        "id": "FP79gfrFJ1yH",
        "outputId": "2a1bab31-834b-4b9a-d226-ddd90c5ceef7"
      },
      "source": [
        "from google.colab import drive \n",
        "drive.mount('/content/drive')\n",
        "!pwd"
      ],
      "execution_count": 3,
      "outputs": [
        {
          "output_type": "stream",
          "name": "stdout",
          "text": [
            "Drive already mounted at /content/drive; to attempt to forcibly remount, call drive.mount(\"/content/drive\", force_remount=True).\n",
            "/content\n"
          ]
        }
      ]
    },
    {
      "cell_type": "code",
      "metadata": {
        "id": "ZLVMnFuNAnFN"
      },
      "source": [
        "import os\n",
        "os.chdir('/content/drive/MyDrive/Spitale Lab/Fundamentals_of_Data_Science/module 8')"
      ],
      "execution_count": 4,
      "outputs": []
    },
    {
      "cell_type": "code",
      "metadata": {
        "colab": {
          "base_uri": "https://localhost:8080/"
        },
        "id": "6Se8SsUoArKM",
        "outputId": "5b8d20bb-dbb8-4c30-e934-88e635d13985"
      },
      "source": [
        "!pwd"
      ],
      "execution_count": 5,
      "outputs": [
        {
          "output_type": "stream",
          "name": "stdout",
          "text": [
            "/content/drive/MyDrive/Spitale Lab/Fundamentals_of_Data_Science/module 8\n"
          ]
        }
      ]
    },
    {
      "cell_type": "code",
      "metadata": {
        "id": "fqYXxQDyArcv"
      },
      "source": [
        "#import necessary libraries\n",
        "import pandas as pd\n",
        "import numpy as np\n",
        "import matplotlib.pyplot as plt\n",
        "%matplotlib inline\n",
        "\n",
        "from sklearn import svm, datasets\n",
        "from sklearn import metrics\n",
        "from sklearn.model_selection import train_test_split\n",
        "#from sklearn.datasets import load_breast_cancer"
      ],
      "execution_count": 8,
      "outputs": []
    },
    {
      "cell_type": "code",
      "metadata": {
        "id": "wvF68HnhJjjz"
      },
      "source": [
        "dataset=pd.read_csv('Combined_WineQuality_RedWhite.csv')"
      ],
      "execution_count": 14,
      "outputs": []
    },
    {
      "cell_type": "code",
      "metadata": {
        "colab": {
          "base_uri": "https://localhost:8080/"
        },
        "id": "dEhPylJ3ZGDM",
        "outputId": "b77d67e5-b7cb-4701-cda4-184a4cc35514"
      },
      "source": [
        "dataset.shape"
      ],
      "execution_count": 15,
      "outputs": [
        {
          "output_type": "execute_result",
          "data": {
            "text/plain": [
              "(6497, 13)"
            ]
          },
          "metadata": {},
          "execution_count": 15
        }
      ]
    },
    {
      "cell_type": "code",
      "metadata": {
        "colab": {
          "base_uri": "https://localhost:8080/",
          "height": 206
        },
        "id": "29Uxu-e3ZHKB",
        "outputId": "5df8015b-f7fd-4b4a-a2cc-4d637e598b2f"
      },
      "source": [
        "dataset.head()"
      ],
      "execution_count": 16,
      "outputs": [
        {
          "output_type": "execute_result",
          "data": {
            "text/html": [
              "<div>\n",
              "<style scoped>\n",
              "    .dataframe tbody tr th:only-of-type {\n",
              "        vertical-align: middle;\n",
              "    }\n",
              "\n",
              "    .dataframe tbody tr th {\n",
              "        vertical-align: top;\n",
              "    }\n",
              "\n",
              "    .dataframe thead th {\n",
              "        text-align: right;\n",
              "    }\n",
              "</style>\n",
              "<table border=\"1\" class=\"dataframe\">\n",
              "  <thead>\n",
              "    <tr style=\"text-align: right;\">\n",
              "      <th></th>\n",
              "      <th>FixedAcidity</th>\n",
              "      <th>VolatileAcidity</th>\n",
              "      <th>CitricAcid</th>\n",
              "      <th>ResidualSugar</th>\n",
              "      <th>Chlorides</th>\n",
              "      <th>FreeSulfurDioxide</th>\n",
              "      <th>TotalSulfurDioxide</th>\n",
              "      <th>Density</th>\n",
              "      <th>pH</th>\n",
              "      <th>Sulphates</th>\n",
              "      <th>Alcohol</th>\n",
              "      <th>Quality[DV]</th>\n",
              "      <th>Color[DV]</th>\n",
              "    </tr>\n",
              "  </thead>\n",
              "  <tbody>\n",
              "    <tr>\n",
              "      <th>0</th>\n",
              "      <td>6.2</td>\n",
              "      <td>0.270</td>\n",
              "      <td>0.32</td>\n",
              "      <td>6.3</td>\n",
              "      <td>0.048</td>\n",
              "      <td>47.0</td>\n",
              "      <td>159.0</td>\n",
              "      <td>0.99282</td>\n",
              "      <td>3.21</td>\n",
              "      <td>0.60</td>\n",
              "      <td>11.0</td>\n",
              "      <td>6</td>\n",
              "      <td>White</td>\n",
              "    </tr>\n",
              "    <tr>\n",
              "      <th>1</th>\n",
              "      <td>7.4</td>\n",
              "      <td>0.635</td>\n",
              "      <td>0.10</td>\n",
              "      <td>2.4</td>\n",
              "      <td>0.080</td>\n",
              "      <td>16.0</td>\n",
              "      <td>33.0</td>\n",
              "      <td>0.99736</td>\n",
              "      <td>3.58</td>\n",
              "      <td>0.69</td>\n",
              "      <td>10.8</td>\n",
              "      <td>7</td>\n",
              "      <td>Red</td>\n",
              "    </tr>\n",
              "    <tr>\n",
              "      <th>2</th>\n",
              "      <td>6.3</td>\n",
              "      <td>0.230</td>\n",
              "      <td>0.33</td>\n",
              "      <td>6.9</td>\n",
              "      <td>0.052</td>\n",
              "      <td>23.0</td>\n",
              "      <td>118.0</td>\n",
              "      <td>0.99380</td>\n",
              "      <td>3.23</td>\n",
              "      <td>0.46</td>\n",
              "      <td>10.4</td>\n",
              "      <td>6</td>\n",
              "      <td>White</td>\n",
              "    </tr>\n",
              "    <tr>\n",
              "      <th>3</th>\n",
              "      <td>6.2</td>\n",
              "      <td>0.630</td>\n",
              "      <td>0.31</td>\n",
              "      <td>1.7</td>\n",
              "      <td>0.088</td>\n",
              "      <td>15.0</td>\n",
              "      <td>64.0</td>\n",
              "      <td>0.99690</td>\n",
              "      <td>3.46</td>\n",
              "      <td>0.79</td>\n",
              "      <td>9.3</td>\n",
              "      <td>5</td>\n",
              "      <td>Red</td>\n",
              "    </tr>\n",
              "    <tr>\n",
              "      <th>4</th>\n",
              "      <td>7.6</td>\n",
              "      <td>0.270</td>\n",
              "      <td>0.52</td>\n",
              "      <td>3.2</td>\n",
              "      <td>0.043</td>\n",
              "      <td>28.0</td>\n",
              "      <td>152.0</td>\n",
              "      <td>0.99129</td>\n",
              "      <td>3.02</td>\n",
              "      <td>0.53</td>\n",
              "      <td>11.4</td>\n",
              "      <td>6</td>\n",
              "      <td>White</td>\n",
              "    </tr>\n",
              "  </tbody>\n",
              "</table>\n",
              "</div>"
            ],
            "text/plain": [
              "   FixedAcidity  VolatileAcidity  CitricAcid  ...  Alcohol  Quality[DV]  Color[DV]\n",
              "0           6.2            0.270        0.32  ...     11.0            6      White\n",
              "1           7.4            0.635        0.10  ...     10.8            7        Red\n",
              "2           6.3            0.230        0.33  ...     10.4            6      White\n",
              "3           6.2            0.630        0.31  ...      9.3            5        Red\n",
              "4           7.6            0.270        0.52  ...     11.4            6      White\n",
              "\n",
              "[5 rows x 13 columns]"
            ]
          },
          "metadata": {},
          "execution_count": 16
        }
      ]
    },
    {
      "cell_type": "code",
      "metadata": {
        "id": "DlSszgNjZipJ"
      },
      "source": [
        "X = dataset.drop(['Color[DV]','Quality[DV]'], axis=1)\n",
        "y = dataset['Color[DV]']"
      ],
      "execution_count": 92,
      "outputs": []
    },
    {
      "cell_type": "code",
      "metadata": {
        "id": "ssGt664vaMIG"
      },
      "source": [
        "from sklearn.model_selection import train_test_split\n",
        "X_train, X_test, y_train, y_test = train_test_split(X, y, test_size=0.30)"
      ],
      "execution_count": 93,
      "outputs": []
    },
    {
      "cell_type": "code",
      "metadata": {
        "id": "ZYhgjGWravzb"
      },
      "source": [
        "from sklearn.ensemble import RandomForestClassifier\n",
        "classifier = RandomForestClassifier(n_jobs=2, random_state=0)\n",
        "\n",
        "clf=classifier.fit(X_train, y_train)\n",
        "y_pred=clf.predict(X_test)"
      ],
      "execution_count": 25,
      "outputs": []
    },
    {
      "cell_type": "code",
      "metadata": {
        "colab": {
          "base_uri": "https://localhost:8080/"
        },
        "id": "Oo_tgvYkayKM",
        "outputId": "e237395e-9f94-457b-aeea-29c7ceb4470a"
      },
      "source": [
        "print(\"Accuracy\", metrics.accuracy_score(y_test,y_pred))"
      ],
      "execution_count": 26,
      "outputs": [
        {
          "output_type": "stream",
          "name": "stdout",
          "text": [
            "Accuracy 0.9953846153846154\n"
          ]
        }
      ]
    },
    {
      "cell_type": "code",
      "metadata": {
        "colab": {
          "base_uri": "https://localhost:8080/"
        },
        "id": "pnl636loa1g3",
        "outputId": "340a8a30-ff8b-4306-81c4-6e2653160729"
      },
      "source": [
        "print(metrics.classification_report(y_test, y_pred))"
      ],
      "execution_count": 27,
      "outputs": [
        {
          "output_type": "stream",
          "name": "stdout",
          "text": [
            "              precision    recall  f1-score   support\n",
            "\n",
            "         Red       1.00      0.99      0.99       498\n",
            "       White       1.00      1.00      1.00      1452\n",
            "\n",
            "    accuracy                           1.00      1950\n",
            "   macro avg       1.00      0.99      0.99      1950\n",
            "weighted avg       1.00      1.00      1.00      1950\n",
            "\n"
          ]
        }
      ]
    },
    {
      "cell_type": "code",
      "metadata": {
        "colab": {
          "base_uri": "https://localhost:8080/"
        },
        "id": "OU-UmtxTdp9a",
        "outputId": "a7685563-19af-408a-a13b-339048dd7767"
      },
      "source": [
        "clf.classes_"
      ],
      "execution_count": 42,
      "outputs": [
        {
          "output_type": "execute_result",
          "data": {
            "text/plain": [
              "array(['Red', 'White'], dtype=object)"
            ]
          },
          "metadata": {},
          "execution_count": 42
        }
      ]
    },
    {
      "cell_type": "code",
      "metadata": {
        "colab": {
          "base_uri": "https://localhost:8080/"
        },
        "id": "tEPz8IGShE4X",
        "outputId": "00c5a014-1013-4a99-8cdc-4cbf92521661"
      },
      "source": [
        "clf.predict_proba(X_test)"
      ],
      "execution_count": 44,
      "outputs": [
        {
          "output_type": "execute_result",
          "data": {
            "text/plain": [
              "array([[0., 1.],\n",
              "       [0., 1.],\n",
              "       [0., 1.],\n",
              "       ...,\n",
              "       [0., 1.],\n",
              "       [0., 1.],\n",
              "       [0., 1.]])"
            ]
          },
          "metadata": {},
          "execution_count": 44
        }
      ]
    },
    {
      "cell_type": "code",
      "metadata": {
        "colab": {
          "base_uri": "https://localhost:8080/"
        },
        "id": "8Y1IpxFeb6Fe",
        "outputId": "b27ab7b2-c86a-4ee0-961b-79bf84ffcc88"
      },
      "source": [
        "y_pred_proba = clf.predict_proba(X_test)[::,1]\n",
        "metrics.roc_curve(y_test, y_pred_proba,pos_label='R')"
      ],
      "execution_count": 41,
      "outputs": [
        {
          "output_type": "stream",
          "name": "stderr",
          "text": [
            "/usr/local/lib/python3.7/dist-packages/sklearn/metrics/_ranking.py:1001: UndefinedMetricWarning: No positive samples in y_true, true positive value should be meaningless\n",
            "  UndefinedMetricWarning,\n"
          ]
        },
        {
          "output_type": "execute_result",
          "data": {
            "text/plain": [
              "(array([0.        , 0.13435897, 0.16205128, 0.17846154, 0.19435897,\n",
              "        0.20051282, 0.20564103, 0.20974359, 0.21230769, 0.21538462,\n",
              "        0.21846154, 0.22102564, 0.22307692, 0.22410256, 0.22666667,\n",
              "        0.22974359, 0.23179487, 0.23333333, 0.23589744, 0.23794872,\n",
              "        0.24      , 0.24051282, 0.2425641 , 0.24307692, 0.24564103,\n",
              "        0.24769231, 0.24871795, 0.24974359, 0.25128205, 0.25846154,\n",
              "        0.25948718, 0.26051282, 0.2625641 , 0.26358974, 0.26512821,\n",
              "        0.26615385, 0.26769231, 0.26871795, 0.27076923, 0.27384615,\n",
              "        0.27487179, 0.27641026, 0.2825641 , 0.28512821, 0.29076923,\n",
              "        0.29589744, 0.31230769, 0.32102564, 0.33538462, 0.35692308,\n",
              "        0.38410256, 0.44769231, 0.44871795, 0.44923077, 1.        ]),\n",
              " array([nan, nan, nan, nan, nan, nan, nan, nan, nan, nan, nan, nan, nan,\n",
              "        nan, nan, nan, nan, nan, nan, nan, nan, nan, nan, nan, nan, nan,\n",
              "        nan, nan, nan, nan, nan, nan, nan, nan, nan, nan, nan, nan, nan,\n",
              "        nan, nan, nan, nan, nan, nan, nan, nan, nan, nan, nan, nan, nan,\n",
              "        nan, nan, nan]),\n",
              " array([2.        , 1.        , 0.99      , 0.98      , 0.97      ,\n",
              "        0.96      , 0.95      , 0.94      , 0.93      , 0.92      ,\n",
              "        0.9       , 0.89      , 0.88      , 0.87      , 0.86      ,\n",
              "        0.84      , 0.83      , 0.82      , 0.81      , 0.79      ,\n",
              "        0.78      , 0.77      , 0.76      , 0.75      , 0.71      ,\n",
              "        0.64      , 0.63      , 0.61      , 0.6       , 0.29      ,\n",
              "        0.27      , 0.25      , 0.24      , 0.21      , 0.2       ,\n",
              "        0.19      , 0.18      , 0.17      , 0.16      , 0.15      ,\n",
              "        0.14      , 0.13      , 0.11      , 0.1       , 0.09      ,\n",
              "        0.08      , 0.06      , 0.05      , 0.04      , 0.03      ,\n",
              "        0.02      , 0.01      , 0.005     , 0.00333333, 0.        ]))"
            ]
          },
          "metadata": {},
          "execution_count": 41
        }
      ]
    },
    {
      "cell_type": "code",
      "metadata": {
        "colab": {
          "base_uri": "https://localhost:8080/",
          "height": 295
        },
        "id": "0WBUTvSba6C7",
        "outputId": "faf7fae3-7074-4351-8ad0-24b18d430b57"
      },
      "source": [
        "plt.title('Receiver Operating Characteristic')\n",
        "y_pred_proba = clf.predict_proba(X_test)[::,1]\n",
        "fpr, tpr, _ = metrics.roc_curve(y_test, y_pred_proba,pos_label='White')\n",
        "auc = metrics.roc_auc_score(y_test, y_pred_proba)\n",
        "plt.plot(fpr, tpr, label='data 1, auc='+str(auc))\n",
        "plt.legend(loc=4)\n",
        "plt.ylabel('True Postive Rate')\n",
        "plt.xlabel('False Postive Rate')\n",
        "plt.show()"
      ],
      "execution_count": 49,
      "outputs": [
        {
          "output_type": "display_data",
          "data": {
            "image/png": "[encoded data removed]",
            "text/plain": [
              "<Figure size 432x288 with 1 Axes>"
            ]
          },
          "metadata": {
            "needs_background": "light"
          }
        }
      ]
    },
    {
      "cell_type": "code",
      "metadata": {
        "id": "NV6-3xRJjmT1"
      },
      "source": [
        "from sklearn import tree\n",
        "classifier = tree.DecisionTreeClassifier()\n",
        "clf=classifier.fit(X_train, y_train)\n",
        "y_pred=classifier.predict(X_test)"
      ],
      "execution_count": 94,
      "outputs": []
    },
    {
      "cell_type": "code",
      "metadata": {
        "colab": {
          "base_uri": "https://localhost:8080/"
        },
        "id": "ohB9feryn142",
        "outputId": "177f8c4e-946c-4334-d9e7-063ecdf66039"
      },
      "source": [
        "from sklearn.metrics import classification_report, confusion_matrix\n",
        "print(confusion_matrix(y_test, y_pred))\n",
        "print(classification_report(y_test, y_pred))"
      ],
      "execution_count": 95,
      "outputs": [
        {
          "output_type": "stream",
          "name": "stdout",
          "text": [
            "[[ 481   17]\n",
            " [   8 1444]]\n",
            "              precision    recall  f1-score   support\n",
            "\n",
            "         Red       0.98      0.97      0.97       498\n",
            "       White       0.99      0.99      0.99      1452\n",
            "\n",
            "    accuracy                           0.99      1950\n",
            "   macro avg       0.99      0.98      0.98      1950\n",
            "weighted avg       0.99      0.99      0.99      1950\n",
            "\n"
          ]
        }
      ]
    },
    {
      "cell_type": "code",
      "metadata": {
        "id": "soCFn_uhn6B8"
      },
      "source": [
        "tree.plot_tree(clf)"
      ],
      "execution_count": null,
      "outputs": []
    },
    {
      "cell_type": "code",
      "metadata": {
        "id": "tC5OZ00vn75W"
      },
      "source": [
        "fig=plt.figure(figsize=(70,100))\n",
        "fig=tree.plot_tree(clf,feature_names=dataset.columns, filled=True)"
      ],
      "execution_count": null,
      "outputs": []
    },
    {
      "cell_type": "code",
      "metadata": {
        "colab": {
          "base_uri": "https://localhost:8080/",
          "height": 295
        },
        "id": "eUeJoO4ppckF",
        "outputId": "f4c9bb41-84bc-4c63-b291-1b9be67e75f5"
      },
      "source": [
        "plt.title('Receiver Operating Characteristic')\n",
        "y_pred_proba = clf.predict_proba(X_test)[::,1]\n",
        "fpr, tpr, _ = metrics.roc_curve(y_test, y_pred_proba,pos_label='White')\n",
        "auc = metrics.roc_auc_score(y_test, y_pred_proba)\n",
        "plt.plot(fpr, tpr, label='data 1, auc='+str(auc))\n",
        "plt.legend(loc=4)\n",
        "plt.ylabel('True Postive Rate')\n",
        "plt.xlabel('False Postive Rate')\n",
        "plt.show()"
      ],
      "execution_count": 97,
      "outputs": [
        {
          "output_type": "display_data",
          "data": {
            "image/png": "[encoded data removed]",
            "text/plain": [
              "<Figure size 432x288 with 1 Axes>"
            ]
          },
          "metadata": {
            "needs_background": "light"
          }
        }
      ]
    },
    {
      "cell_type": "markdown",
      "metadata": {
        "id": "b1ZwEs_yr3fG"
      },
      "source": [
        "Linear regression"
      ]
    },
    {
      "cell_type": "code",
      "metadata": {
        "colab": {
          "base_uri": "https://localhost:8080/",
          "height": 206
        },
        "id": "o9_kw8hT5Q07",
        "outputId": "c32a8e97-f88b-4ca4-bdd1-0119be716d91"
      },
      "source": [
        "dataset.head()"
      ],
      "execution_count": 59,
      "outputs": [
        {
          "output_type": "execute_result",
          "data": {
            "text/html": [
              "<div>\n",
              "<style scoped>\n",
              "    .dataframe tbody tr th:only-of-type {\n",
              "        vertical-align: middle;\n",
              "    }\n",
              "\n",
              "    .dataframe tbody tr th {\n",
              "        vertical-align: top;\n",
              "    }\n",
              "\n",
              "    .dataframe thead th {\n",
              "        text-align: right;\n",
              "    }\n",
              "</style>\n",
              "<table border=\"1\" class=\"dataframe\">\n",
              "  <thead>\n",
              "    <tr style=\"text-align: right;\">\n",
              "      <th></th>\n",
              "      <th>FixedAcidity</th>\n",
              "      <th>VolatileAcidity</th>\n",
              "      <th>CitricAcid</th>\n",
              "      <th>ResidualSugar</th>\n",
              "      <th>Chlorides</th>\n",
              "      <th>FreeSulfurDioxide</th>\n",
              "      <th>TotalSulfurDioxide</th>\n",
              "      <th>Density</th>\n",
              "      <th>pH</th>\n",
              "      <th>Sulphates</th>\n",
              "      <th>Alcohol</th>\n",
              "      <th>Quality[DV]</th>\n",
              "      <th>Color[DV]</th>\n",
              "    </tr>\n",
              "  </thead>\n",
              "  <tbody>\n",
              "    <tr>\n",
              "      <th>0</th>\n",
              "      <td>6.2</td>\n",
              "      <td>0.270</td>\n",
              "      <td>0.32</td>\n",
              "      <td>6.3</td>\n",
              "      <td>0.048</td>\n",
              "      <td>47.0</td>\n",
              "      <td>159.0</td>\n",
              "      <td>0.99282</td>\n",
              "      <td>3.21</td>\n",
              "      <td>0.60</td>\n",
              "      <td>11.0</td>\n",
              "      <td>6</td>\n",
              "      <td>White</td>\n",
              "    </tr>\n",
              "    <tr>\n",
              "      <th>1</th>\n",
              "      <td>7.4</td>\n",
              "      <td>0.635</td>\n",
              "      <td>0.10</td>\n",
              "      <td>2.4</td>\n",
              "      <td>0.080</td>\n",
              "      <td>16.0</td>\n",
              "      <td>33.0</td>\n",
              "      <td>0.99736</td>\n",
              "      <td>3.58</td>\n",
              "      <td>0.69</td>\n",
              "      <td>10.8</td>\n",
              "      <td>7</td>\n",
              "      <td>Red</td>\n",
              "    </tr>\n",
              "    <tr>\n",
              "      <th>2</th>\n",
              "      <td>6.3</td>\n",
              "      <td>0.230</td>\n",
              "      <td>0.33</td>\n",
              "      <td>6.9</td>\n",
              "      <td>0.052</td>\n",
              "      <td>23.0</td>\n",
              "      <td>118.0</td>\n",
              "      <td>0.99380</td>\n",
              "      <td>3.23</td>\n",
              "      <td>0.46</td>\n",
              "      <td>10.4</td>\n",
              "      <td>6</td>\n",
              "      <td>White</td>\n",
              "    </tr>\n",
              "    <tr>\n",
              "      <th>3</th>\n",
              "      <td>6.2</td>\n",
              "      <td>0.630</td>\n",
              "      <td>0.31</td>\n",
              "      <td>1.7</td>\n",
              "      <td>0.088</td>\n",
              "      <td>15.0</td>\n",
              "      <td>64.0</td>\n",
              "      <td>0.99690</td>\n",
              "      <td>3.46</td>\n",
              "      <td>0.79</td>\n",
              "      <td>9.3</td>\n",
              "      <td>5</td>\n",
              "      <td>Red</td>\n",
              "    </tr>\n",
              "    <tr>\n",
              "      <th>4</th>\n",
              "      <td>7.6</td>\n",
              "      <td>0.270</td>\n",
              "      <td>0.52</td>\n",
              "      <td>3.2</td>\n",
              "      <td>0.043</td>\n",
              "      <td>28.0</td>\n",
              "      <td>152.0</td>\n",
              "      <td>0.99129</td>\n",
              "      <td>3.02</td>\n",
              "      <td>0.53</td>\n",
              "      <td>11.4</td>\n",
              "      <td>6</td>\n",
              "      <td>White</td>\n",
              "    </tr>\n",
              "  </tbody>\n",
              "</table>\n",
              "</div>"
            ],
            "text/plain": [
              "   FixedAcidity  VolatileAcidity  CitricAcid  ...  Alcohol  Quality[DV]  Color[DV]\n",
              "0           6.2            0.270        0.32  ...     11.0            6      White\n",
              "1           7.4            0.635        0.10  ...     10.8            7        Red\n",
              "2           6.3            0.230        0.33  ...     10.4            6      White\n",
              "3           6.2            0.630        0.31  ...      9.3            5        Red\n",
              "4           7.6            0.270        0.52  ...     11.4            6      White\n",
              "\n",
              "[5 rows x 13 columns]"
            ]
          },
          "metadata": {},
          "execution_count": 59
        }
      ]
    },
    {
      "cell_type": "code",
      "metadata": {
        "colab": {
          "base_uri": "https://localhost:8080/",
          "height": 295
        },
        "id": "dJh6ENmBpolk",
        "outputId": "af3693da-6239-4622-fb40-324d69b318a8"
      },
      "source": [
        "dataset.plot(x='VolatileAcidity',  y='Quality[DV]', style='o')\n",
        "plt.title('Quality[DV] vs VolatileAcidity')\n",
        "plt.xlabel('VolatileAcidity')\n",
        "plt.ylabel('Quality[DV]')\n",
        "plt.show()"
      ],
      "execution_count": 100,
      "outputs": [
        {
          "output_type": "display_data",
          "data": {
            "image/png": "[encoded data removed]",
            "text/plain": [
              "<Figure size 432x288 with 1 Axes>"
            ]
          },
          "metadata": {
            "needs_background": "light"
          }
        }
      ]
    },
    {
      "cell_type": "markdown",
      "metadata": {
        "id": "WOKsTjc676ug"
      },
      "source": [
        "FixedAcidity, VolatileAcidity, Alcohol"
      ]
    },
    {
      "cell_type": "code",
      "metadata": {
        "id": "OQtxPLGx8Gar"
      },
      "source": [
        "X = dataset[['FixedAcidity', 'VolatileAcidity', 'Alcohol']]\n",
        "y = dataset['Quality[DV]']"
      ],
      "execution_count": 80,
      "outputs": []
    },
    {
      "cell_type": "code",
      "metadata": {
        "id": "DaRv5R109MEf"
      },
      "source": [
        "X_train, X_test, y_train, y_test = train_test_split(X, y, test_size=0.2, random_state=0)"
      ],
      "execution_count": 81,
      "outputs": []
    },
    {
      "cell_type": "code",
      "metadata": {
        "id": "deYG0NdH9SG9"
      },
      "source": [
        "from sklearn.linear_model import LinearRegression\n",
        "regressor = LinearRegression()\n",
        "regressor.fit(X_train, y_train)"
      ],
      "execution_count": null,
      "outputs": []
    },
    {
      "cell_type": "code",
      "metadata": {
        "colab": {
          "base_uri": "https://localhost:8080/"
        },
        "id": "I5F72l4M9ci2",
        "outputId": "634ec1bd-f5e4-4302-823b-6accadb93dfa"
      },
      "source": [
        "print(regressor.intercept_)"
      ],
      "execution_count": 83,
      "outputs": [
        {
          "output_type": "stream",
          "name": "stdout",
          "text": [
            "2.7868203099681517\n"
          ]
        }
      ]
    },
    {
      "cell_type": "code",
      "metadata": {
        "colab": {
          "base_uri": "https://localhost:8080/"
        },
        "id": "RU1aBUmb9e7Q",
        "outputId": "c284024b-f88f-4b3a-f6f4-ce31722008b3"
      },
      "source": [
        "print(regressor.coef_)"
      ],
      "execution_count": 84,
      "outputs": [
        {
          "output_type": "stream",
          "name": "stdout",
          "text": [
            "[ 0.01582125 -1.31810944  0.32063009]\n"
          ]
        }
      ]
    },
    {
      "cell_type": "code",
      "metadata": {
        "id": "BAuUE0dF9ipb"
      },
      "source": [
        "y_pred = regressor.predict(X_test)"
      ],
      "execution_count": 85,
      "outputs": []
    },
    {
      "cell_type": "code",
      "metadata": {
        "colab": {
          "base_uri": "https://localhost:8080/",
          "height": 424
        },
        "id": "BXLfjIjD9nSY",
        "outputId": "016759e1-f30a-4261-cb9d-e7b83b9054d0"
      },
      "source": [
        "df= pd.DataFrame({'Actual':y_test, 'Predicted':y_pred})\n",
        "df"
      ],
      "execution_count": 86,
      "outputs": [
        {
          "output_type": "execute_result",
          "data": {
            "text/html": [
              "<div>\n",
              "<style scoped>\n",
              "    .dataframe tbody tr th:only-of-type {\n",
              "        vertical-align: middle;\n",
              "    }\n",
              "\n",
              "    .dataframe tbody tr th {\n",
              "        vertical-align: top;\n",
              "    }\n",
              "\n",
              "    .dataframe thead th {\n",
              "        text-align: right;\n",
              "    }\n",
              "</style>\n",
              "<table border=\"1\" class=\"dataframe\">\n",
              "  <thead>\n",
              "    <tr style=\"text-align: right;\">\n",
              "      <th></th>\n",
              "      <th>Actual</th>\n",
              "      <th>Predicted</th>\n",
              "    </tr>\n",
              "  </thead>\n",
              "  <tbody>\n",
              "    <tr>\n",
              "      <th>5316</th>\n",
              "      <td>6</td>\n",
              "      <td>5.885256</td>\n",
              "    </tr>\n",
              "    <tr>\n",
              "      <th>5210</th>\n",
              "      <td>6</td>\n",
              "      <td>5.276065</td>\n",
              "    </tr>\n",
              "    <tr>\n",
              "      <th>3518</th>\n",
              "      <td>6</td>\n",
              "      <td>6.178282</td>\n",
              "    </tr>\n",
              "    <tr>\n",
              "      <th>1622</th>\n",
              "      <td>6</td>\n",
              "      <td>5.518990</td>\n",
              "    </tr>\n",
              "    <tr>\n",
              "      <th>2443</th>\n",
              "      <td>6</td>\n",
              "      <td>4.955995</td>\n",
              "    </tr>\n",
              "    <tr>\n",
              "      <th>...</th>\n",
              "      <td>...</td>\n",
              "      <td>...</td>\n",
              "    </tr>\n",
              "    <tr>\n",
              "      <th>5710</th>\n",
              "      <td>5</td>\n",
              "      <td>5.551380</td>\n",
              "    </tr>\n",
              "    <tr>\n",
              "      <th>6475</th>\n",
              "      <td>5</td>\n",
              "      <td>5.544330</td>\n",
              "    </tr>\n",
              "    <tr>\n",
              "      <th>1433</th>\n",
              "      <td>6</td>\n",
              "      <td>6.113227</td>\n",
              "    </tr>\n",
              "    <tr>\n",
              "      <th>2707</th>\n",
              "      <td>8</td>\n",
              "      <td>6.432078</td>\n",
              "    </tr>\n",
              "    <tr>\n",
              "      <th>2887</th>\n",
              "      <td>5</td>\n",
              "      <td>5.251120</td>\n",
              "    </tr>\n",
              "  </tbody>\n",
              "</table>\n",
              "<p>1300 rows × 2 columns</p>\n",
              "</div>"
            ],
            "text/plain": [
              "      Actual  Predicted\n",
              "5316       6   5.885256\n",
              "5210       6   5.276065\n",
              "3518       6   6.178282\n",
              "1622       6   5.518990\n",
              "2443       6   4.955995\n",
              "...      ...        ...\n",
              "5710       5   5.551380\n",
              "6475       5   5.544330\n",
              "1433       6   6.113227\n",
              "2707       8   6.432078\n",
              "2887       5   5.251120\n",
              "\n",
              "[1300 rows x 2 columns]"
            ]
          },
          "metadata": {},
          "execution_count": 86
        }
      ]
    },
    {
      "cell_type": "code",
      "metadata": {
        "colab": {
          "base_uri": "https://localhost:8080/"
        },
        "id": "SjxUo1s59su3",
        "outputId": "8fc6bf3a-3150-4468-9301-802d605b1e37"
      },
      "source": [
        "from sklearn import metrics\n",
        "print('R-Square:', metrics.r2_score(y_test, y_pred))\n",
        "print('Mean Absolute Eror:', metrics.mean_absolute_error(y_test, y_pred))\n",
        "print('Mean Squared Error:', metrics.mean_squared_error(y_test, y_pred))\n",
        "print('Root Mean Squared Error:', np.sqrt(metrics.mean_squared_error(y_test, y_pred)))"
      ],
      "execution_count": 87,
      "outputs": [
        {
          "output_type": "stream",
          "name": "stdout",
          "text": [
            "R-Square: 0.26254814399137594\n",
            "Mean Absolute Eror: 0.5921052950434161\n",
            "Mean Squared Error: 0.5854839738634053\n",
            "Root Mean Squared Error: 0.7651692452414729\n"
          ]
        }
      ]
    }
  ]
}