{
  "nbformat": 4,
  "nbformat_minor": 0,
  "metadata": {
    "colab": {
      "name": "module 7.ipynb",
      "provenance": [],
      "authorship_tag": "ABX9TyP0Jh+715MrCrN/CefKFL9k",
      "include_colab_link": true
    },
    "kernelspec": {
      "name": "python3",
      "display_name": "Python 3"
    },
    "language_info": {
      "name": "python"
    }
  },
  "cells": [
    {
      "cell_type": "markdown",
      "metadata": {
        "id": "view-in-github",
        "colab_type": "text"
      },
      "source": [
        "<a href=\"https://colab.research.google.com/github/JoshJingtianWang/Wine_Color_and_Quality_Prediction_Using_Machine_Learning/blob/main/module_7.ipynb\" target=\"_parent\"><img src=\"https://colab.research.google.com/assets/colab-badge.svg\" alt=\"Open In Colab\"/></a>"
      ]
    },
    {
      "cell_type": "code",
      "metadata": {
        "colab": {
          "base_uri": "https://localhost:8080/"
        },
        "id": "4COSHffqB6GI",
        "outputId": "5f6f2bae-1870-4454-aadc-adb4f09bca6b"
      },
      "source": [
        "from google.colab import drive \n",
        "drive.mount('/content/drive')\n",
        "!pwd"
      ],
      "execution_count": 1,
      "outputs": [
        {
          "output_type": "stream",
          "name": "stdout",
          "text": [
            "Mounted at /content/drive\n",
            "/content\n"
          ]
        }
      ]
    },
    {
      "cell_type": "code",
      "metadata": {
        "colab": {
          "base_uri": "https://localhost:8080/",
          "height": 35
        },
        "id": "0YedDq1IB9TZ",
        "outputId": "4bc416d2-8306-478f-804f-1ef4a0b09867"
      },
      "source": [
        "import os\n",
        "os.getcwd()"
      ],
      "execution_count": 2,
      "outputs": [
        {
          "output_type": "execute_result",
          "data": {
            "application/vnd.google.colaboratory.intrinsic+json": {
              "type": "string"
            },
            "text/plain": [
              "'/content'"
            ]
          },
          "metadata": {},
          "execution_count": 2
        }
      ]
    },
    {
      "cell_type": "code",
      "metadata": {
        "id": "Q1OzZaTIB-ou"
      },
      "source": [
        "os.chdir('/content/drive/MyDrive/Spitale Lab/Fundamentals_of_Data_Science/module 7')"
      ],
      "execution_count": 3,
      "outputs": []
    },
    {
      "cell_type": "code",
      "metadata": {
        "colab": {
          "base_uri": "https://localhost:8080/"
        },
        "id": "K6gBmjjcCAGE",
        "outputId": "10b4c80c-2467-488e-a020-cd07da31760c"
      },
      "source": [
        "!pwd"
      ],
      "execution_count": 4,
      "outputs": [
        {
          "output_type": "stream",
          "name": "stdout",
          "text": [
            "/content/drive/MyDrive/Spitale Lab/Fundamentals_of_Data_Science/module 7\n"
          ]
        }
      ]
    },
    {
      "cell_type": "code",
      "metadata": {
        "colab": {
          "base_uri": "https://localhost:8080/"
        },
        "id": "73ugnAZvCVjN",
        "outputId": "1ded3484-7a16-43b3-ab04-ff05e55301a0"
      },
      "source": [
        "import nltk\n",
        "nltk.download('movie_reviews')\n",
        "from nltk.corpus import movie_reviews"
      ],
      "execution_count": 5,
      "outputs": [
        {
          "output_type": "stream",
          "name": "stdout",
          "text": [
            "[nltk_data] Downloading package movie_reviews to /root/nltk_data...\n",
            "[nltk_data]   Unzipping corpora/movie_reviews.zip.\n"
          ]
        }
      ]
    },
    {
      "cell_type": "code",
      "metadata": {
        "colab": {
          "base_uri": "https://localhost:8080/"
        },
        "id": "V2naiSQlC4kp",
        "outputId": "b7241d9a-70f2-4653-9605-2b9d6f74ec46"
      },
      "source": [
        "movie_reviews.words()"
      ],
      "execution_count": 6,
      "outputs": [
        {
          "output_type": "execute_result",
          "data": {
            "text/plain": [
              "['plot', ':', 'two', 'teen', 'couples', 'go', 'to', ...]"
            ]
          },
          "metadata": {},
          "execution_count": 6
        }
      ]
    },
    {
      "cell_type": "code",
      "metadata": {
        "colab": {
          "base_uri": "https://localhost:8080/"
        },
        "id": "NE59j3aBC7Lg",
        "outputId": "1e7f5460-d652-4705-f29b-16090f3703a9"
      },
      "source": [
        "len(movie_reviews.words())"
      ],
      "execution_count": 7,
      "outputs": [
        {
          "output_type": "execute_result",
          "data": {
            "text/plain": [
              "1583820"
            ]
          },
          "metadata": {},
          "execution_count": 7
        }
      ]
    },
    {
      "cell_type": "code",
      "metadata": {
        "colab": {
          "base_uri": "https://localhost:8080/"
        },
        "id": "WCoh-RkjC-bC",
        "outputId": "dd3b5725-0e5d-449b-d36e-fe914270c689"
      },
      "source": [
        "movie_reviews.categories()"
      ],
      "execution_count": null,
      "outputs": [
        {
          "output_type": "execute_result",
          "data": {
            "text/plain": [
              "['neg', 'pos']"
            ]
          },
          "metadata": {},
          "execution_count": 15
        }
      ]
    },
    {
      "cell_type": "code",
      "metadata": {
        "id": "NQtVz63wDA0C"
      },
      "source": [
        "nltk.FreqDist(movie_reviews.words())"
      ],
      "execution_count": null,
      "outputs": []
    },
    {
      "cell_type": "code",
      "metadata": {
        "colab": {
          "base_uri": "https://localhost:8080/"
        },
        "id": "2CcV9WqQDFKR",
        "outputId": "ca131768-b844-4a5d-fe5e-cb4cb449af80"
      },
      "source": [
        "nltk.FreqDist(movie_reviews.words())['happy']"
      ],
      "execution_count": null,
      "outputs": [
        {
          "output_type": "execute_result",
          "data": {
            "text/plain": [
              "215"
            ]
          },
          "metadata": {},
          "execution_count": 17
        }
      ]
    },
    {
      "cell_type": "code",
      "metadata": {
        "colab": {
          "base_uri": "https://localhost:8080/"
        },
        "id": "FP3pG37JFqhm",
        "outputId": "4b2a0aa8-0b66-4dca-e858-7578580704a2"
      },
      "source": [
        "nltk.FreqDist(movie_reviews.words()).most_common(15)"
      ],
      "execution_count": null,
      "outputs": [
        {
          "output_type": "execute_result",
          "data": {
            "text/plain": [
              "[(',', 77717),\n",
              " ('the', 76529),\n",
              " ('.', 65876),\n",
              " ('a', 38106),\n",
              " ('and', 35576),\n",
              " ('of', 34123),\n",
              " ('to', 31937),\n",
              " (\"'\", 30585),\n",
              " ('is', 25195),\n",
              " ('in', 21822),\n",
              " ('s', 18513),\n",
              " ('\"', 17612),\n",
              " ('it', 16107),\n",
              " ('that', 15924),\n",
              " ('-', 15595)]"
            ]
          },
          "metadata": {},
          "execution_count": 18
        }
      ]
    },
    {
      "cell_type": "code",
      "metadata": {
        "id": "yxspm7LuGIc9"
      },
      "source": [
        "movie_reviews.fileids()"
      ],
      "execution_count": null,
      "outputs": []
    },
    {
      "cell_type": "code",
      "metadata": {
        "id": "xXFgoJeiGMw8"
      },
      "source": [
        "movie_reviews.fileids('pos')"
      ],
      "execution_count": null,
      "outputs": []
    },
    {
      "cell_type": "code",
      "metadata": {
        "colab": {
          "base_uri": "https://localhost:8080/"
        },
        "id": "1f3qkDMkGjsm",
        "outputId": "b3968e52-b1fa-4342-b640-9370807cb3a5"
      },
      "source": [
        "movie_reviews.words('neg/cv954_19932.txt')"
      ],
      "execution_count": null,
      "outputs": [
        {
          "output_type": "execute_result",
          "data": {
            "text/plain": [
              "['a', 'new', 'entry', 'in', 'the', '\"', 'revisionist', ...]"
            ]
          },
          "metadata": {},
          "execution_count": 24
        }
      ]
    },
    {
      "cell_type": "code",
      "metadata": {
        "id": "muD9ky99HHlh"
      },
      "source": [
        "all_words = nltk.FreqDist(movie_reviews.words())"
      ],
      "execution_count": null,
      "outputs": []
    },
    {
      "cell_type": "code",
      "metadata": {
        "id": "qc953nvjHTXB",
        "colab": {
          "base_uri": "https://localhost:8080/"
        },
        "outputId": "42ae5c48-e4cc-4a71-f486-633beaa5605f"
      },
      "source": [
        "len(all_words)"
      ],
      "execution_count": null,
      "outputs": [
        {
          "output_type": "execute_result",
          "data": {
            "text/plain": [
              "39768"
            ]
          },
          "metadata": {},
          "execution_count": 6
        }
      ]
    },
    {
      "cell_type": "code",
      "metadata": {
        "id": "2tV9F9HiHWuc"
      },
      "source": [
        "feature_vector = list(all_words)[:4000]"
      ],
      "execution_count": null,
      "outputs": []
    },
    {
      "cell_type": "code",
      "metadata": {
        "id": "ONl-ZnkQosoe"
      },
      "source": [
        "feature_vector"
      ],
      "execution_count": null,
      "outputs": []
    },
    {
      "cell_type": "code",
      "metadata": {
        "id": "wckpHwM1nvYr"
      },
      "source": [
        "feature = {}\n",
        "review = movie_reviews.words('neg/cv954_19932.txt')\n",
        "\n",
        "for x in range(len(feature_vector)):\n",
        "  feature[feature_vector[x]] = feature_vector[x] in review\n",
        "\n",
        "[x for x in feature_vector if feature[x] == True]"
      ],
      "execution_count": null,
      "outputs": []
    },
    {
      "cell_type": "code",
      "metadata": {
        "id": "uGR-Bx2M7Q3Z"
      },
      "source": [
        "document = [(movie_reviews.words(file_id), category) for file_id in movie_reviews.fileids() for category in movie_reviews.categories(file_id)]\n",
        "document"
      ],
      "execution_count": null,
      "outputs": []
    },
    {
      "cell_type": "code",
      "metadata": {
        "id": "jatY-m2TFkWV"
      },
      "source": [
        "def find_feature(word_list):\n",
        "  feature = {}\n",
        "  for x in feature_vector:\n",
        "    feature[x] = x in word_list\n",
        "  return feature"
      ],
      "execution_count": null,
      "outputs": []
    },
    {
      "cell_type": "code",
      "metadata": {
        "id": "ZBvJA1llJls6"
      },
      "source": [
        "find_feature(document[0][0])"
      ],
      "execution_count": null,
      "outputs": []
    },
    {
      "cell_type": "code",
      "metadata": {
        "id": "oqTHDaj1KVLm"
      },
      "source": [
        "feature_sets = [(find_feature(word_list),category) for (word_list, category) in document]"
      ],
      "execution_count": null,
      "outputs": []
    },
    {
      "cell_type": "code",
      "metadata": {
        "id": "Yba3U1tOMW2o"
      },
      "source": [
        "from nltk.classify.scikitlearn import SklearnClassifier\n",
        "from sklearn.svm import SVC\n",
        "from sklearn import model_selection"
      ],
      "execution_count": null,
      "outputs": []
    },
    {
      "cell_type": "code",
      "metadata": {
        "id": "ODk9hplkOHUs"
      },
      "source": [
        "train_set,test_set = model_selection.train_test_split(feature_sets,test_size = 0.25)"
      ],
      "execution_count": null,
      "outputs": []
    },
    {
      "cell_type": "code",
      "metadata": {
        "id": "GfujuD1_8ATH"
      },
      "source": [
        "print(len(train_set))\n",
        "print(len(test_set))"
      ],
      "execution_count": null,
      "outputs": []
    },
    {
      "cell_type": "code",
      "metadata": {
        "id": "wCi3klcF8Cwf"
      },
      "source": [
        "model = SklearnClassifier(SVC(kernel = 'linear'))\n",
        "model.train(train_set)"
      ],
      "execution_count": null,
      "outputs": []
    },
    {
      "cell_type": "code",
      "metadata": {
        "id": "fCeGaDMa-IyC"
      },
      "source": [
        "accuracy = nltk.classify.accuracy(model, test_set)\n",
        "print('SVC Accuracy : {}'.format(accuracy))"
      ],
      "execution_count": null,
      "outputs": []
    }
  ]
}